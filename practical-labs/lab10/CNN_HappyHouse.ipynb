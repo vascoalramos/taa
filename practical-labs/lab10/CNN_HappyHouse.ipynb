{
 "cells": [
  {
   "cell_type": "markdown",
   "metadata": {},
   "source": [
    "## ML Lab 10 - Building a CNN model in Keras (Happy House) \n",
    "\n",
    "**Objectives**:  Build a deep learning algorithm using Keras, a high-level neural networks programming framework, written in Python and capable of running on top of TensorFlow.  \n",
    "\n",
    "Keras was developed to enable deep learning engineers to build and experiment with different models very quickly. Just as TensorFlow is a higher-level framework than Python, Keras is an even higher-level framework and provides additional abstractions. \n",
    "\n",
    "**Note**: We import a lot of functions from Keras. You can use them easily just by calling them directly in the notebook. Ex: `X = Input(...)` or `X = ZeroPadding2D(...)`.\n"
   ]
  },
  {
   "cell_type": "code",
   "execution_count": 6,
   "metadata": {},
   "outputs": [],
   "source": [
    "import warnings\n",
    "warnings.filterwarnings(\"ignore\", category=FutureWarning)\n",
    "warnings.filterwarnings(\"ignore\", category=DeprecationWarning)\n",
    "\n",
    "# Import relevant libraries\n",
    "import numpy as np\n",
    "from keras import layers\n",
    "from keras.layers import Input, Dense, Activation, ZeroPadding2D, BatchNormalization, Flatten, Conv2D\n",
    "from keras.layers import AveragePooling2D, MaxPooling2D, Dropout, GlobalMaxPooling2D, GlobalAveragePooling2D\n",
    "from keras.models import Model\n",
    "from keras.preprocessing import image\n",
    "from keras.utils import layer_utils\n",
    "from keras.utils.data_utils import get_file\n",
    "from keras.applications.imagenet_utils import preprocess_input\n",
    "import pydot\n",
    "from IPython.display import SVG\n",
    "from keras.utils.vis_utils import model_to_dot\n",
    "from keras.utils import plot_model\n",
    "from kt_utils import *\n",
    "\n",
    "import keras.backend as K\n",
    "K.set_image_data_format(\"channels_last\")\n",
    "import matplotlib.pyplot as plt\n",
    "from matplotlib.pyplot import imshow\n",
    "\n",
    "%matplotlib inline"
   ]
  },
  {
   "cell_type": "markdown",
   "metadata": {},
   "source": [
    "##  Problem:  Happy House Challenge\n",
    "\n",
    "You decided to spend your vacation with friends in a very convenient holiday house with many things to do nearby. But the most important benefit is that everybody has commited to be happy when they are in the house. So anyone wanting to enter the house must prove their current state of happiness.\n",
    "\n",
    "As a deep learning expert, to make sure the \"Happy\" rule is strictly applied, you are going to build an algorithm that uses pictures from the front door camera to check if the person is happy or not. The door should open only if the person is happy. \n",
    "\n",
    "You have gathered pictures of your friends and yourself, taken by the front-door camera. The dataset is labbeled. \n",
    "\n",
    "<img src=\"images/house-members.png\" style=\"width:500px;height:250px;\">\n",
    "\n",
    "**Details of the \"Happy\" dataset**:\n",
    "- Images are of shape (64,64,3)\n",
    "- Training: 600 pictures\n",
    "- Test: 150 pictures\n",
    "\n",
    "Run the following code to load and normalize the dataset and learn about its shapes."
   ]
  },
  {
   "cell_type": "code",
   "execution_count": 8,
   "metadata": {},
   "outputs": [
    {
     "output_type": "stream",
     "name": "stdout",
     "text": "number of training examples = 600\nnumber of test examples = 150\nX_train shape: (600, 64, 64, 3)\nY_train shape: (600, 1)\nX_test shape: (150, 64, 64, 3)\nY_test shape: (150, 1)\n"
    }
   ],
   "source": [
    "X_train_orig, Y_train_orig, X_test_orig, Y_test_orig, classes = load_dataset()\n",
    "\n",
    "# Normalize image vectors\n",
    "X_train = X_train_orig/255.\n",
    "X_test = X_test_orig/255.\n",
    "\n",
    "# Reshape\n",
    "Y_train = Y_train_orig.T\n",
    "Y_test = Y_test_orig.T\n",
    "\n",
    "print(\"number of training examples = \" + str(X_train.shape[0]))\n",
    "print(\"number of test examples = \" + str(X_test.shape[0]))\n",
    "print(\"X_train shape: \" + str(X_train.shape))\n",
    "print(\"Y_train shape: \" + str(Y_train.shape))\n",
    "print(\"X_test shape: \" + str(X_test.shape))\n",
    "print(\"Y_test shape: \" + str(Y_test.shape))"
   ]
  },
  {
   "cell_type": "markdown",
   "metadata": {},
   "source": [
    "## Building a model in Keras\n",
    "\n",
    "Here is an example of a model in Keras:\n",
    "\n",
    "```python\n",
    "def model(input_shape):\n",
    "    # Define the input placeholder as a tensor with shape input_shape. \n",
    "    # Think of this as an input image.\n",
    "    X_input = Input(input_shape)\n",
    "\n",
    "    # Zero-Padding: pads the border of X_input with zeroes\n",
    "    X = ZeroPadding2D((3, 3))(X_input)\n",
    "\n",
    "    # CONV -> BN -> RELU Block applied to X\n",
    "    # Conv2D(filters, kernel_size, .... data_format='channels_last',...)\n",
    "    X = Conv2D(32, (7, 7), strides = (1, 1), name = 'conv0')(X)\n",
    "    \n",
    "    # Normalize the activations of the previous layer at each batch, i.e. applies a transformation that maintains the mean activation close to 0 and activation standard deviation close to 1.\n",
    "    # If data_format=\"channels_last\", the axis to be normalized is axis=3. \n",
    "    X = BatchNormalization(axis = 3, name = 'bn0')(X)\n",
    "    X = Activation('relu')(X)\n",
    "\n",
    "    # MAXPOOL: helps to lower the dimension of X in height and width.\n",
    "    X = MaxPooling2D((2, 2), name='max_pool')(X)\n",
    "\n",
    "    # FLATTEN X (means convert it to a vector) + FULLYCONNECTED\n",
    "    X = Flatten()(X)\n",
    "    X = Dense(1, activation='sigmoid', name='fc')(X)\n",
    "\n",
    "    # Creates the Keras model instance (object), you'll use to train/test the model.\n",
    "    model = Model(inputs = X_input, outputs = X, name='HappyModel')\n",
    "    \n",
    "    return model\n",
    "```\n",
    "\n",
    "Note that Keras uses a different convention with variable names than we ussually do with neural network layers. In particular, rather than creating and assigning a new variable on each step of forward propagation such as `X`, `Z1`, `A1`, `Z2`, `A2`, etc. for the computations for the different layers, in Keras code each line above just reassigns `X` to a new value using `X = ...`. In other words, during each step of forward propagation, we are just writing the latest value in the computation into the same variable `X`. The only exception was `X_input`, which we kept separate and did not overwrite, since we needed it at the end to create the Keras model instance (`model = Model(inputs = X_input, ...)` above). \n",
    "\n",
    "**Exercise**: Implement a `HappyModel()`. We suggest that you start by implementing the architecture proposed above as your initial model and run it. After that, come back and vary the network architecture (e.g. add new blocks CONV -> BN -> RELU -> MAXP) or vary the hyperparameters (e.g Conv2D(32, (3, 3),....) ).  \n",
    "\n",
    "Be careful with the data's shapes. "
   ]
  },
  {
   "cell_type": "code",
   "execution_count": 9,
   "metadata": {},
   "outputs": [],
   "source": [
    "# HappyModel\n",
    "\n",
    "def HappyModel(input_shape):\n",
    "    \"\"\"\n",
    "    Implementation of the HappyModel.\n",
    "    \n",
    "    Arguments:\n",
    "    input_shape -- shape of the images of the dataset\n",
    "\n",
    "    Returns:\n",
    "    model -- a Model() instance in Keras\n",
    "    \"\"\"\n",
    "    # Define the input placeholder as a tensor with shape input_shape. \n",
    "    # Think of this as an input image.\n",
    "    X_input = Input(input_shape)\n",
    "\n",
    "    # Zero-Padding: pads the border of X_input with zeroes\n",
    "    X = ZeroPadding2D((3, 3))(X_input)\n",
    "\n",
    "    # CONV -> BN -> RELU Block applied to X\n",
    "    # Conv2D(filters, kernel_size, .... data_format='channels_last',...)\n",
    "    X = Conv2D(32, (7, 7), strides = (1, 1), name = \"conv0\")(X)\n",
    "    \n",
    "    # Normalize the activations of the previous layer at each batch, i.e. applies a transformation that maintains the mean activation close to 0 and activation standard deviation close to 1.\n",
    "    # If data_format=\"channels_last\", the axis to be normalized is axis=3. \n",
    "    X = BatchNormalization(axis = 3, name = \"bn0\")(X)\n",
    "    X = Activation(\"relu\"')(X)\n",
    "\n",
    "    # MAXPOOL: helps to lower the dimension of X in height and width.\n",
    "    X = MaxPooling2D((2, 2), name=\"max_pool\")(X)\n",
    "\n",
    "    # FLATTEN X (means convert it to a vector) + FULLYCONNECTED\n",
    "    X = Flatten()(X)\n",
    "    X = Dense(1, activation=\"sigmoid\", name=\"fc\")(X)\n",
    "\n",
    "    # Creates the Keras model instance (object), you'll use to train/test the model.\n",
    "    model = Model(inputs = X_input, outputs = X, name=\"HappyModel\")\n",
    "    \n",
    "    return model\n",
    "\n",
    "    # Use the suggested model in the text above to get started, and run through the whole\n",
    "    # exercise once. Then come back and add more BLOCKS. \n",
    "    \n",
    "\n",
    "    # BLOCK 1: CONV -> BN -> RELU -> MAXP\n",
    "\n",
    "\n",
    "    # BLOCK 2: CONV -> BN -> RELU -> MAXP\n",
    "\n",
    "        \n",
    "    # BLOCK N: CONV -> BN -> RELU -> MAXP\n",
    "       \n",
    "        \n",
    "    # FLATTEN X (means convert it to a vector) + FULLYCONNECTED\n",
    "\n",
    "\n",
    "    # Create model.\n",
    "\n",
    "    return model"
   ]
  },
  {
   "cell_type": "markdown",
   "metadata": {},
   "source": [
    "You have now built a function to describe your model. \n",
    "\n",
    "To train and test this model, there are four steps in Keras (Create->Compile->Fit/Train->Evaluate/Test:\n",
    "\n",
    "1. Create the model by calling the function above\n",
    "2. Compile the model by calling `model.compile(optimizer = \"...\", loss = \"...\", metrics = [\"accuracy\"])`\n",
    "3. Train the model on train data by calling `model.fit(X_train, Y_train, epochs = ..., batch_size = ...)`\n",
    "4. Test the model on test data by calling `model.evaluate(x = ..., y = ...)`\n",
    "\n",
    "If you want to know more about `model.compile()`, `model.fit()`, `model.evaluate()` and their arguments, refer to the official [Keras documentation](https://keras.io/models/model/).\n"
   ]
  },
  {
   "cell_type": "code",
   "execution_count": 13,
   "metadata": {},
   "outputs": [],
   "source": [
    "# 1. Create the model by calling the function above\n",
    "happyModel = HappyModel(X_train[0].shape)"
   ]
  },
  {
   "cell_type": "code",
   "execution_count": 14,
   "metadata": {},
   "outputs": [],
   "source": [
    "# 2.Compile the model to configure the learning process. Choose the arguments of compile() wisely.\n",
    "# Hint: the Happy Challenge is a binary classification problem.\n",
    "happyModel.compile(loss=\"binary_crossentropy\", optimizer=\"adam\", metrics=[\"accuracy\"])"
   ]
  },
  {
   "cell_type": "code",
   "execution_count": 22,
   "metadata": {
    "scrolled": true
   },
   "outputs": [
    {
     "output_type": "stream",
     "name": "stdout",
     "text": "Epoch 1/10\n600/600 [==============================] - 6s 11ms/step - loss: 1.8199e-04 - accuracy: 1.0000\nEpoch 2/10\n600/600 [==============================] - 6s 10ms/step - loss: 1.8353e-04 - accuracy: 1.0000\nEpoch 3/10\n600/600 [==============================] - 8s 13ms/step - loss: 1.9854e-04 - accuracy: 1.0000\nEpoch 4/10\n600/600 [==============================] - 6s 11ms/step - loss: 1.8856e-04 - accuracy: 1.0000\nEpoch 5/10\n600/600 [==============================] - 7s 11ms/step - loss: 1.7056e-04 - accuracy: 1.0000\nEpoch 6/10\n600/600 [==============================] - 7s 12ms/step - loss: 2.0270e-04 - accuracy: 1.0000\nEpoch 7/10\n600/600 [==============================] - 6s 10ms/step - loss: 1.4856e-04 - accuracy: 1.0000\nEpoch 8/10\n600/600 [==============================] - 7s 12ms/step - loss: 1.7797e-04 - accuracy: 1.0000\nEpoch 9/10\n600/600 [==============================] - 7s 11ms/step - loss: 1.8151e-04 - accuracy: 1.0000\nEpoch 10/10\n600/600 [==============================] - 7s 12ms/step - loss: 1.7731e-04 - accuracy: 1.0000\n"
    },
    {
     "output_type": "execute_result",
     "data": {
      "text/plain": "<keras.callbacks.callbacks.History at 0x7fe104b71908>"
     },
     "metadata": {},
     "execution_count": 22
    }
   ],
   "source": [
    "# 3.Train the model on train data. Choose the number of epochs and the batch size.\n",
    "happyModel.fit(X_train, Y_train, epochs=10, batch_size=16)"
   ]
  },
  {
   "cell_type": "markdown",
   "metadata": {},
   "source": [
    "Note that if you run `fit()` again, the `model` will continue to train with the parameters it has already learnt instead of reinitializing them.\n"
   ]
  },
  {
   "cell_type": "code",
   "execution_count": 23,
   "metadata": {
    "scrolled": true
   },
   "outputs": [
    {
     "output_type": "stream",
     "name": "stdout",
     "text": "600/600 [==============================] - 2s 4ms/step\n\nLoss = 0.00015932981749453273\nTrain Accuracy = 1.0\n"
    }
   ],
   "source": [
    "# Test the model on train data\n",
    "preds = happyModel.evaluate(X_train, Y_train)\n",
    "\n",
    "print()\n",
    "print (\"Loss = \" + str(preds[0]))\n",
    "print (\"Train Accuracy = \" + str(preds[1]))"
   ]
  },
  {
   "cell_type": "code",
   "execution_count": 24,
   "metadata": {},
   "outputs": [
    {
     "output_type": "stream",
     "name": "stdout",
     "text": "150/150 [==============================] - 1s 4ms/step\n\nLoss = 0.049087708853185176\nTest Accuracy = 0.9800000190734863\n"
    }
   ],
   "source": [
    "# Test the model on test data\n",
    "preds = happyModel.evaluate(X_test, Y_test)\n",
    "\n",
    "print()\n",
    "print (\"Loss = \" + str(preds[0]))\n",
    "print (\"Test Accuracy = \" + str(preds[1]))"
   ]
  },
  {
   "cell_type": "markdown",
   "metadata": {},
   "source": [
    "If `happyModel()` function worked, you should have observed much better than random-guessing (50%) accuracy on the train and test sets. You have to get at least 75% accuracy. \n",
    "Even if you have achieved 75% accuracy, please feel free to keep playing with your model to try to get even better results. To give you a point of comparison, our model gets around 95% test accuracy in 40 epochs (and 99% train accuracy) with a mini batch size of 16 and \"adam\" optimizer. Depending on your computer it may take some time to finish the complete set of training epochs. \n",
    "\n",
    "- Change your optimizer. We find Adam works well. \n",
    "- If the model is struggling to run and you get memory issues, lower your batch_size. \n",
    "- Run on more epochs, until you see the train accuracy plateauing. \n"
   ]
  },
  {
   "cell_type": "code",
   "execution_count": 20,
   "metadata": {},
   "outputs": [
    {
     "output_type": "stream",
     "name": "stdout",
     "text": "Model: \"HappyModel\"\n_________________________________________________________________\nLayer (type)                 Output Shape              Param #   \n=================================================================\ninput_3 (InputLayer)         (None, 64, 64, 3)         0         \n_________________________________________________________________\nzero_padding2d_3 (ZeroPaddin (None, 70, 70, 3)         0         \n_________________________________________________________________\nconv0 (Conv2D)               (None, 64, 64, 32)        4736      \n_________________________________________________________________\nbn0 (BatchNormalization)     (None, 64, 64, 32)        128       \n_________________________________________________________________\nactivation_2 (Activation)    (None, 64, 64, 32)        0         \n_________________________________________________________________\nmax_pool (MaxPooling2D)      (None, 32, 32, 32)        0         \n_________________________________________________________________\nflatten_2 (Flatten)          (None, 32768)             0         \n_________________________________________________________________\nfc (Dense)                   (None, 1)                 32769     \n=================================================================\nTotal params: 37,633\nTrainable params: 37,569\nNon-trainable params: 64\n_________________________________________________________________\n"
    }
   ],
   "source": [
    "# Prints the details of your layers in a table with the sizes of its inputs/outputs\n",
    "happyModel.summary()"
   ]
  },
  {
   "cell_type": "markdown",
   "metadata": {},
   "source": [
    "## Test with your own image (Optional)\n",
    "\n",
    "Take a picture of your face and see if you could enter the Happy House. To do that, add your image to this Jupyter Notebook's directory, in the \"images\" folder and run the code below and check if the algorithm is right (0 is unhappy, 1 is happy)!\n",
    "    \n",
    "NOTE: All pictures (the training and test sub-sets) for this assignment were taken against the same background (since a front door camera is always mounted in the same position). This makes the problem easier, but a model trained on this data may or may not work on your own data. But feel free to give it a try! "
   ]
  },
  {
   "cell_type": "code",
   "execution_count": 21,
   "metadata": {},
   "outputs": [
    {
     "output_type": "stream",
     "name": "stdout",
     "text": "[[0.]]\n"
    },
    {
     "output_type": "display_data",
     "data": {
      "text/plain": "<Figure size 432x288 with 1 Axes>",
      "image/svg+xml": "<?xml version=\"1.0\" encoding=\"utf-8\" standalone=\"no\"?>\n<!DOCTYPE svg PUBLIC \"-//W3C//DTD SVG 1.1//EN\"\n  \"http://www.w3.org/Graphics/SVG/1.1/DTD/svg11.dtd\">\n<!-- Created with matplotlib (https://matplotlib.org/) -->\n<svg height=\"250.618594pt\" version=\"1.1\" viewBox=\"0 0 251.565 250.618594\" width=\"251.565pt\" xmlns=\"http://www.w3.org/2000/svg\" xmlns:xlink=\"http://www.w3.org/1999/xlink\">\n <defs>\n  <style type=\"text/css\">\n*{stroke-linecap:butt;stroke-linejoin:round;}\n  </style>\n </defs>\n <g id=\"figure_1\">\n  <g id=\"patch_1\">\n   <path d=\"M 0 250.618594 \nL 251.565 250.618594 \nL 251.565 0 \nL 0 0 \nz\n\" style=\"fill:none;\"/>\n  </g>\n  <g id=\"axes_1\">\n   <g id=\"patch_2\">\n    <path d=\"M 26.925 226.740469 \nL 244.365 226.740469 \nL 244.365 9.300469 \nL 26.925 9.300469 \nz\n\" style=\"fill:#ffffff;\"/>\n   </g>\n   <g clip-path=\"url(#p2a06dbeb13)\">\n    <image height=\"218\" id=\"imaged4288ec8ed\" transform=\"scale(1 -1)translate(0 -218)\" width=\"218\" x=\"26.925\" xlink:href=\"data:image/png;base64,\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\" y=\"-8.740469\"/>\n   </g>\n   <g id=\"matplotlib.axis_1\">\n    <g id=\"xtick_1\">\n     <g id=\"line2d_1\">\n      <defs>\n       <path d=\"M 0 0 \nL 0 3.5 \n\" id=\"mb621327b9b\" style=\"stroke:#000000;stroke-width:0.8;\"/>\n      </defs>\n      <g>\n       <use style=\"stroke:#000000;stroke-width:0.8;\" x=\"28.62375\" xlink:href=\"#mb621327b9b\" y=\"226.740469\"/>\n      </g>\n     </g>\n     <g id=\"text_1\">\n      <!-- 0 -->\n      <defs>\n       <path d=\"M 31.78125 66.40625 \nQ 24.171875 66.40625 20.328125 58.90625 \nQ 16.5 51.421875 16.5 36.375 \nQ 16.5 21.390625 20.328125 13.890625 \nQ 24.171875 6.390625 31.78125 6.390625 \nQ 39.453125 6.390625 43.28125 13.890625 \nQ 47.125 21.390625 47.125 36.375 \nQ 47.125 51.421875 43.28125 58.90625 \nQ 39.453125 66.40625 31.78125 66.40625 \nz\nM 31.78125 74.21875 \nQ 44.046875 74.21875 50.515625 64.515625 \nQ 56.984375 54.828125 56.984375 36.375 \nQ 56.984375 17.96875 50.515625 8.265625 \nQ 44.046875 -1.421875 31.78125 -1.421875 \nQ 19.53125 -1.421875 13.0625 8.265625 \nQ 6.59375 17.96875 6.59375 36.375 \nQ 6.59375 54.828125 13.0625 64.515625 \nQ 19.53125 74.21875 31.78125 74.21875 \nz\n\" id=\"DejaVuSans-48\"/>\n      </defs>\n      <g transform=\"translate(25.4425 241.338906)scale(0.1 -0.1)\">\n       <use xlink:href=\"#DejaVuSans-48\"/>\n      </g>\n     </g>\n    </g>\n    <g id=\"xtick_2\">\n     <g id=\"line2d_2\">\n      <g>\n       <use style=\"stroke:#000000;stroke-width:0.8;\" x=\"62.59875\" xlink:href=\"#mb621327b9b\" y=\"226.740469\"/>\n      </g>\n     </g>\n     <g id=\"text_2\">\n      <!-- 10 -->\n      <defs>\n       <path d=\"M 12.40625 8.296875 \nL 28.515625 8.296875 \nL 28.515625 63.921875 \nL 10.984375 60.40625 \nL 10.984375 69.390625 \nL 28.421875 72.90625 \nL 38.28125 72.90625 \nL 38.28125 8.296875 \nL 54.390625 8.296875 \nL 54.390625 0 \nL 12.40625 0 \nz\n\" id=\"DejaVuSans-49\"/>\n      </defs>\n      <g transform=\"translate(56.23625 241.338906)scale(0.1 -0.1)\">\n       <use xlink:href=\"#DejaVuSans-49\"/>\n       <use x=\"63.623047\" xlink:href=\"#DejaVuSans-48\"/>\n      </g>\n     </g>\n    </g>\n    <g id=\"xtick_3\">\n     <g id=\"line2d_3\">\n      <g>\n       <use style=\"stroke:#000000;stroke-width:0.8;\" x=\"96.57375\" xlink:href=\"#mb621327b9b\" y=\"226.740469\"/>\n      </g>\n     </g>\n     <g id=\"text_3\">\n      <!-- 20 -->\n      <defs>\n       <path d=\"M 19.1875 8.296875 \nL 53.609375 8.296875 \nL 53.609375 0 \nL 7.328125 0 \nL 7.328125 8.296875 \nQ 12.9375 14.109375 22.625 23.890625 \nQ 32.328125 33.6875 34.8125 36.53125 \nQ 39.546875 41.84375 41.421875 45.53125 \nQ 43.3125 49.21875 43.3125 52.78125 \nQ 43.3125 58.59375 39.234375 62.25 \nQ 35.15625 65.921875 28.609375 65.921875 \nQ 23.96875 65.921875 18.8125 64.3125 \nQ 13.671875 62.703125 7.8125 59.421875 \nL 7.8125 69.390625 \nQ 13.765625 71.78125 18.9375 73 \nQ 24.125 74.21875 28.421875 74.21875 \nQ 39.75 74.21875 46.484375 68.546875 \nQ 53.21875 62.890625 53.21875 53.421875 \nQ 53.21875 48.921875 51.53125 44.890625 \nQ 49.859375 40.875 45.40625 35.40625 \nQ 44.1875 33.984375 37.640625 27.21875 \nQ 31.109375 20.453125 19.1875 8.296875 \nz\n\" id=\"DejaVuSans-50\"/>\n      </defs>\n      <g transform=\"translate(90.21125 241.338906)scale(0.1 -0.1)\">\n       <use xlink:href=\"#DejaVuSans-50\"/>\n       <use x=\"63.623047\" xlink:href=\"#DejaVuSans-48\"/>\n      </g>\n     </g>\n    </g>\n    <g id=\"xtick_4\">\n     <g id=\"line2d_4\">\n      <g>\n       <use style=\"stroke:#000000;stroke-width:0.8;\" x=\"130.54875\" xlink:href=\"#mb621327b9b\" y=\"226.740469\"/>\n      </g>\n     </g>\n     <g id=\"text_4\">\n      <!-- 30 -->\n      <defs>\n       <path d=\"M 40.578125 39.3125 \nQ 47.65625 37.796875 51.625 33 \nQ 55.609375 28.21875 55.609375 21.1875 \nQ 55.609375 10.40625 48.1875 4.484375 \nQ 40.765625 -1.421875 27.09375 -1.421875 \nQ 22.515625 -1.421875 17.65625 -0.515625 \nQ 12.796875 0.390625 7.625 2.203125 \nL 7.625 11.71875 \nQ 11.71875 9.328125 16.59375 8.109375 \nQ 21.484375 6.890625 26.8125 6.890625 \nQ 36.078125 6.890625 40.9375 10.546875 \nQ 45.796875 14.203125 45.796875 21.1875 \nQ 45.796875 27.640625 41.28125 31.265625 \nQ 36.765625 34.90625 28.71875 34.90625 \nL 20.21875 34.90625 \nL 20.21875 43.015625 \nL 29.109375 43.015625 \nQ 36.375 43.015625 40.234375 45.921875 \nQ 44.09375 48.828125 44.09375 54.296875 \nQ 44.09375 59.90625 40.109375 62.90625 \nQ 36.140625 65.921875 28.71875 65.921875 \nQ 24.65625 65.921875 20.015625 65.03125 \nQ 15.375 64.15625 9.8125 62.3125 \nL 9.8125 71.09375 \nQ 15.4375 72.65625 20.34375 73.4375 \nQ 25.25 74.21875 29.59375 74.21875 \nQ 40.828125 74.21875 47.359375 69.109375 \nQ 53.90625 64.015625 53.90625 55.328125 \nQ 53.90625 49.265625 50.4375 45.09375 \nQ 46.96875 40.921875 40.578125 39.3125 \nz\n\" id=\"DejaVuSans-51\"/>\n      </defs>\n      <g transform=\"translate(124.18625 241.338906)scale(0.1 -0.1)\">\n       <use xlink:href=\"#DejaVuSans-51\"/>\n       <use x=\"63.623047\" xlink:href=\"#DejaVuSans-48\"/>\n      </g>\n     </g>\n    </g>\n    <g id=\"xtick_5\">\n     <g id=\"line2d_5\">\n      <g>\n       <use style=\"stroke:#000000;stroke-width:0.8;\" x=\"164.52375\" xlink:href=\"#mb621327b9b\" y=\"226.740469\"/>\n      </g>\n     </g>\n     <g id=\"text_5\">\n      <!-- 40 -->\n      <defs>\n       <path d=\"M 37.796875 64.3125 \nL 12.890625 25.390625 \nL 37.796875 25.390625 \nz\nM 35.203125 72.90625 \nL 47.609375 72.90625 \nL 47.609375 25.390625 \nL 58.015625 25.390625 \nL 58.015625 17.1875 \nL 47.609375 17.1875 \nL 47.609375 0 \nL 37.796875 0 \nL 37.796875 17.1875 \nL 4.890625 17.1875 \nL 4.890625 26.703125 \nz\n\" id=\"DejaVuSans-52\"/>\n      </defs>\n      <g transform=\"translate(158.16125 241.338906)scale(0.1 -0.1)\">\n       <use xlink:href=\"#DejaVuSans-52\"/>\n       <use x=\"63.623047\" xlink:href=\"#DejaVuSans-48\"/>\n      </g>\n     </g>\n    </g>\n    <g id=\"xtick_6\">\n     <g id=\"line2d_6\">\n      <g>\n       <use style=\"stroke:#000000;stroke-width:0.8;\" x=\"198.49875\" xlink:href=\"#mb621327b9b\" y=\"226.740469\"/>\n      </g>\n     </g>\n     <g id=\"text_6\">\n      <!-- 50 -->\n      <defs>\n       <path d=\"M 10.796875 72.90625 \nL 49.515625 72.90625 \nL 49.515625 64.59375 \nL 19.828125 64.59375 \nL 19.828125 46.734375 \nQ 21.96875 47.46875 24.109375 47.828125 \nQ 26.265625 48.1875 28.421875 48.1875 \nQ 40.625 48.1875 47.75 41.5 \nQ 54.890625 34.8125 54.890625 23.390625 \nQ 54.890625 11.625 47.5625 5.09375 \nQ 40.234375 -1.421875 26.90625 -1.421875 \nQ 22.3125 -1.421875 17.546875 -0.640625 \nQ 12.796875 0.140625 7.71875 1.703125 \nL 7.71875 11.625 \nQ 12.109375 9.234375 16.796875 8.0625 \nQ 21.484375 6.890625 26.703125 6.890625 \nQ 35.15625 6.890625 40.078125 11.328125 \nQ 45.015625 15.765625 45.015625 23.390625 \nQ 45.015625 31 40.078125 35.4375 \nQ 35.15625 39.890625 26.703125 39.890625 \nQ 22.75 39.890625 18.8125 39.015625 \nQ 14.890625 38.140625 10.796875 36.28125 \nz\n\" id=\"DejaVuSans-53\"/>\n      </defs>\n      <g transform=\"translate(192.13625 241.338906)scale(0.1 -0.1)\">\n       <use xlink:href=\"#DejaVuSans-53\"/>\n       <use x=\"63.623047\" xlink:href=\"#DejaVuSans-48\"/>\n      </g>\n     </g>\n    </g>\n    <g id=\"xtick_7\">\n     <g id=\"line2d_7\">\n      <g>\n       <use style=\"stroke:#000000;stroke-width:0.8;\" x=\"232.47375\" xlink:href=\"#mb621327b9b\" y=\"226.740469\"/>\n      </g>\n     </g>\n     <g id=\"text_7\">\n      <!-- 60 -->\n      <defs>\n       <path d=\"M 33.015625 40.375 \nQ 26.375 40.375 22.484375 35.828125 \nQ 18.609375 31.296875 18.609375 23.390625 \nQ 18.609375 15.53125 22.484375 10.953125 \nQ 26.375 6.390625 33.015625 6.390625 \nQ 39.65625 6.390625 43.53125 10.953125 \nQ 47.40625 15.53125 47.40625 23.390625 \nQ 47.40625 31.296875 43.53125 35.828125 \nQ 39.65625 40.375 33.015625 40.375 \nz\nM 52.59375 71.296875 \nL 52.59375 62.3125 \nQ 48.875 64.0625 45.09375 64.984375 \nQ 41.3125 65.921875 37.59375 65.921875 \nQ 27.828125 65.921875 22.671875 59.328125 \nQ 17.53125 52.734375 16.796875 39.40625 \nQ 19.671875 43.65625 24.015625 45.921875 \nQ 28.375 48.1875 33.59375 48.1875 \nQ 44.578125 48.1875 50.953125 41.515625 \nQ 57.328125 34.859375 57.328125 23.390625 \nQ 57.328125 12.15625 50.6875 5.359375 \nQ 44.046875 -1.421875 33.015625 -1.421875 \nQ 20.359375 -1.421875 13.671875 8.265625 \nQ 6.984375 17.96875 6.984375 36.375 \nQ 6.984375 53.65625 15.1875 63.9375 \nQ 23.390625 74.21875 37.203125 74.21875 \nQ 40.921875 74.21875 44.703125 73.484375 \nQ 48.484375 72.75 52.59375 71.296875 \nz\n\" id=\"DejaVuSans-54\"/>\n      </defs>\n      <g transform=\"translate(226.11125 241.338906)scale(0.1 -0.1)\">\n       <use xlink:href=\"#DejaVuSans-54\"/>\n       <use x=\"63.623047\" xlink:href=\"#DejaVuSans-48\"/>\n      </g>\n     </g>\n    </g>\n   </g>\n   <g id=\"matplotlib.axis_2\">\n    <g id=\"ytick_1\">\n     <g id=\"line2d_8\">\n      <defs>\n       <path d=\"M 0 0 \nL -3.5 0 \n\" id=\"me444a6f205\" style=\"stroke:#000000;stroke-width:0.8;\"/>\n      </defs>\n      <g>\n       <use style=\"stroke:#000000;stroke-width:0.8;\" x=\"26.925\" xlink:href=\"#me444a6f205\" y=\"10.999219\"/>\n      </g>\n     </g>\n     <g id=\"text_8\">\n      <!-- 0 -->\n      <g transform=\"translate(13.5625 14.798437)scale(0.1 -0.1)\">\n       <use xlink:href=\"#DejaVuSans-48\"/>\n      </g>\n     </g>\n    </g>\n    <g id=\"ytick_2\">\n     <g id=\"line2d_9\">\n      <g>\n       <use style=\"stroke:#000000;stroke-width:0.8;\" x=\"26.925\" xlink:href=\"#me444a6f205\" y=\"44.974219\"/>\n      </g>\n     </g>\n     <g id=\"text_9\">\n      <!-- 10 -->\n      <g transform=\"translate(7.2 48.773437)scale(0.1 -0.1)\">\n       <use xlink:href=\"#DejaVuSans-49\"/>\n       <use x=\"63.623047\" xlink:href=\"#DejaVuSans-48\"/>\n      </g>\n     </g>\n    </g>\n    <g id=\"ytick_3\">\n     <g id=\"line2d_10\">\n      <g>\n       <use style=\"stroke:#000000;stroke-width:0.8;\" x=\"26.925\" xlink:href=\"#me444a6f205\" y=\"78.949219\"/>\n      </g>\n     </g>\n     <g id=\"text_10\">\n      <!-- 20 -->\n      <g transform=\"translate(7.2 82.748437)scale(0.1 -0.1)\">\n       <use xlink:href=\"#DejaVuSans-50\"/>\n       <use x=\"63.623047\" xlink:href=\"#DejaVuSans-48\"/>\n      </g>\n     </g>\n    </g>\n    <g id=\"ytick_4\">\n     <g id=\"line2d_11\">\n      <g>\n       <use style=\"stroke:#000000;stroke-width:0.8;\" x=\"26.925\" xlink:href=\"#me444a6f205\" y=\"112.924219\"/>\n      </g>\n     </g>\n     <g id=\"text_11\">\n      <!-- 30 -->\n      <g transform=\"translate(7.2 116.723437)scale(0.1 -0.1)\">\n       <use xlink:href=\"#DejaVuSans-51\"/>\n       <use x=\"63.623047\" xlink:href=\"#DejaVuSans-48\"/>\n      </g>\n     </g>\n    </g>\n    <g id=\"ytick_5\">\n     <g id=\"line2d_12\">\n      <g>\n       <use style=\"stroke:#000000;stroke-width:0.8;\" x=\"26.925\" xlink:href=\"#me444a6f205\" y=\"146.899219\"/>\n      </g>\n     </g>\n     <g id=\"text_12\">\n      <!-- 40 -->\n      <g transform=\"translate(7.2 150.698437)scale(0.1 -0.1)\">\n       <use xlink:href=\"#DejaVuSans-52\"/>\n       <use x=\"63.623047\" xlink:href=\"#DejaVuSans-48\"/>\n      </g>\n     </g>\n    </g>\n    <g id=\"ytick_6\">\n     <g id=\"line2d_13\">\n      <g>\n       <use style=\"stroke:#000000;stroke-width:0.8;\" x=\"26.925\" xlink:href=\"#me444a6f205\" y=\"180.874219\"/>\n      </g>\n     </g>\n     <g id=\"text_13\">\n      <!-- 50 -->\n      <g transform=\"translate(7.2 184.673437)scale(0.1 -0.1)\">\n       <use xlink:href=\"#DejaVuSans-53\"/>\n       <use x=\"63.623047\" xlink:href=\"#DejaVuSans-48\"/>\n      </g>\n     </g>\n    </g>\n    <g id=\"ytick_7\">\n     <g id=\"line2d_14\">\n      <g>\n       <use style=\"stroke:#000000;stroke-width:0.8;\" x=\"26.925\" xlink:href=\"#me444a6f205\" y=\"214.849219\"/>\n      </g>\n     </g>\n     <g id=\"text_14\">\n      <!-- 60 -->\n      <g transform=\"translate(7.2 218.648437)scale(0.1 -0.1)\">\n       <use xlink:href=\"#DejaVuSans-54\"/>\n       <use x=\"63.623047\" xlink:href=\"#DejaVuSans-48\"/>\n      </g>\n     </g>\n    </g>\n   </g>\n   <g id=\"patch_3\">\n    <path d=\"M 26.925 226.740469 \nL 26.925 9.300469 \n\" style=\"fill:none;stroke:#000000;stroke-linecap:square;stroke-linejoin:miter;stroke-width:0.8;\"/>\n   </g>\n   <g id=\"patch_4\">\n    <path d=\"M 244.365 226.740469 \nL 244.365 9.300469 \n\" style=\"fill:none;stroke:#000000;stroke-linecap:square;stroke-linejoin:miter;stroke-width:0.8;\"/>\n   </g>\n   <g id=\"patch_5\">\n    <path d=\"M 26.925 226.740469 \nL 244.365 226.740469 \n\" style=\"fill:none;stroke:#000000;stroke-linecap:square;stroke-linejoin:miter;stroke-width:0.8;\"/>\n   </g>\n   <g id=\"patch_6\">\n    <path d=\"M 26.925 9.300469 \nL 244.365 9.300469 \n\" style=\"fill:none;stroke:#000000;stroke-linecap:square;stroke-linejoin:miter;stroke-width:0.8;\"/>\n   </g>\n  </g>\n </g>\n <defs>\n  <clipPath id=\"p2a06dbeb13\">\n   <rect height=\"217.44\" width=\"217.44\" x=\"26.925\" y=\"9.300469\"/>\n  </clipPath>\n </defs>\n</svg>\n",
      "image/png": "[encoded data removed]"
     },
     "metadata": {
      "needs_background": "light"
     }
    }
   ],
   "source": [
    "# your own image \"my_image.jpg\". \n",
    "img_path = \"images/my_image.jpg\"\n",
    "\n",
    "img = image.load_img(img_path, target_size=(64, 64))\n",
    "imshow(img)\n",
    "\n",
    "x = image.img_to_array(img)\n",
    "x = np.expand_dims(x, axis=0)\n",
    "x = preprocess_input(x)\n",
    "\n",
    "print(happyModel.predict(x))"
   ]
  },
  {
   "cell_type": "code",
   "execution_count": null,
   "metadata": {},
   "outputs": [],
   "source": []
  }
 ],
 "metadata": {
  "kernelspec": {
   "display_name": "Python 3.6.10 64-bit ('taa_env': conda)",
   "language": "python",
   "name": "python361064bittaaenvconda93ab49cff0084e3880b982de8a30846b"
  },
  "language_info": {
   "codemirror_mode": {
    "name": "ipython",
    "version": 3
   },
   "file_extension": ".py",
   "mimetype": "text/x-python",
   "name": "python",
   "nbconvert_exporter": "python",
   "pygments_lexer": "ipython3",
   "version": "3.6.10-final"
  }
 },
 "nbformat": 4,
 "nbformat_minor": 2
}